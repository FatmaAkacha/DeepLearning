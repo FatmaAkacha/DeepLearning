{
 "cells": [
  {
   "cell_type": "code",
   "execution_count": 1,
   "metadata": {},
   "outputs": [
    {
     "name": "stderr",
     "output_type": "stream",
     "text": [
      "2024-08-02 23:05:55.575 \n",
      "  \u001b[33m\u001b[1mWarning:\u001b[0m to view this Streamlit app on a browser, run it with the following\n",
      "  command:\n",
      "\n",
      "    streamlit run C:\\Users\\User\\AppData\\Roaming\\Python\\Python312\\site-packages\\ipykernel_launcher.py [ARGUMENTS]\n",
      "2024-08-02 23:05:55.591 Session state does not function when running a script without `streamlit run`\n"
     ]
    }
   ],
   "source": [
    "import nltk\n",
    "from nltk.chat.util import Chat, reflections\n",
    "import speech_recognition as sr\n",
    "import streamlit as st\n",
    "\n",
    "# Define some example chatbot data (you can load from a file or define more complex patterns)\n",
    "chatbot_pairs = [\n",
    "    (r'hi|hello', ['Hello! How can I assist you today?']),\n",
    "    (r'what is your name?', ['I am a chatbot created to assist you.']),\n",
    "    (r'quit', ['Goodbye! Have a nice day.']),\n",
    "]\n",
    "\n",
    "# Initialize the chatbot\n",
    "chatbot = Chat(chatbot_pairs, reflections)\n",
    "\n",
    "# Function to transcribe speech to text\n",
    "def transcribe_speech():\n",
    "    recognizer = sr.Recognizer()\n",
    "    with sr.Microphone() as source:\n",
    "        st.write(\"Listening...\")\n",
    "        recognizer.adjust_for_ambient_noise(source)\n",
    "        audio = recognizer.listen(source)\n",
    "    try:\n",
    "        text = recognizer.recognize_google(audio)\n",
    "        st.write(\"You said: \", text)\n",
    "        return text\n",
    "    except sr.UnknownValueError:\n",
    "        st.write(\"Sorry, I could not understand the audio.\")\n",
    "        return None\n",
    "    except sr.RequestError as e:\n",
    "        st.write(f\"Could not request results; {e}\")\n",
    "        return None\n",
    "\n",
    "# Function to handle chatbot responses\n",
    "def get_chatbot_response(user_input):\n",
    "    return chatbot.respond(user_input)\n",
    "\n",
    "# Streamlit App\n",
    "def main():\n",
    "    st.title(\"Speech-Enabled Chatbot\")\n",
    "    st.write(\"You can interact with the chatbot using text or speech.\")\n",
    "\n",
    "    option = st.radio(\"Choose input method\", [\"Text\", \"Speech\"])\n",
    "\n",
    "    if option == \"Text\":\n",
    "        user_input = st.text_input(\"Type your message:\")\n",
    "        if st.button(\"Send\"):\n",
    "            if user_input:\n",
    "                response = get_chatbot_response(user_input)\n",
    "                st.write(\"Chatbot:\", response)\n",
    "            else:\n",
    "                st.write(\"Please type a message.\")\n",
    "                \n",
    "    elif option == \"Speech\":\n",
    "        if st.button(\"Record\"):\n",
    "            user_input = transcribe_speech()\n",
    "            if user_input:\n",
    "                response = get_chatbot_response(user_input)\n",
    "                st.write(\"Chatbot:\", response)\n",
    "\n",
    "if __name__ == \"__main__\":\n",
    "    main()\n"
   ]
  }
 ],
 "metadata": {
  "kernelspec": {
   "display_name": "Python 3",
   "language": "python",
   "name": "python3"
  },
  "language_info": {
   "codemirror_mode": {
    "name": "ipython",
    "version": 3
   },
   "file_extension": ".py",
   "mimetype": "text/x-python",
   "name": "python",
   "nbconvert_exporter": "python",
   "pygments_lexer": "ipython3",
   "version": "3.12.4"
  }
 },
 "nbformat": 4,
 "nbformat_minor": 2
}
