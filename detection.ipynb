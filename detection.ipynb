{
 "cells": [
  {
   "cell_type": "code",
   "execution_count": 1,
   "metadata": {},
   "outputs": [],
   "source": [
    "import streamlit as st\n",
    "import cv2\n",
    "import numpy as np\n",
    "from PIL import Image"
   ]
  },
  {
   "cell_type": "code",
   "execution_count": 2,
   "metadata": {},
   "outputs": [],
   "source": [
    "# Function to detect faces \n",
    "def detect_faces(image, scale_factor, min_neighbors, color):\n",
    "    gray = cv2.cvtColor(image, cv2.COLOR_BGR2GRAY)\n",
    "    face_cascade = cv2.CascadeClassifier(cv2.data.haarcascades + 'haarcascade_frontalface_default.xml')\n",
    "    faces = face_cascade.detectMultiScale(gray, scaleFactor=scale_factor, minNeighbors=min_neighbors)\n",
    "    for (x, y, w, h) in faces:\n",
    "        cv2.rectangle(image, (x, y), (x+w, y+h), color, 2)\n",
    "    return image"
   ]
  },
  {
   "cell_type": "code",
   "execution_count": 3,
   "metadata": {},
   "outputs": [
    {
     "name": "stderr",
     "output_type": "stream",
     "text": [
      "2024-08-02 22:44:26.127 \n",
      "  \u001b[33m\u001b[1mWarning:\u001b[0m to view this Streamlit app on a browser, run it with the following\n",
      "  command:\n",
      "\n",
      "    streamlit run C:\\Users\\User\\AppData\\Roaming\\Python\\Python312\\site-packages\\ipykernel_launcher.py [ARGUMENTS]\n"
     ]
    }
   ],
   "source": [
    "st.title('Face Detection App')\n",
    "\n",
    "uploaded_file = st.file_uploader(\"Choose an image...\", type=[\"jpg\", \"png\"])\n",
    "if uploaded_file is not None:\n",
    "    image = Image.open(uploaded_file)\n",
    "    image = np.array(image)\n",
    "    \n",
    "    st.write(\"\"\"\n",
    "    # Instructions\n",
    "    1. Upload an image to detect faces.\n",
    "    2. Adjust the parameters to fine-tune the detection.\n",
    "    3. Click the \"Save Image\" button to save the image with detected faces.\n",
    "    \"\"\")\n",
    "\n",
    "    color = st.color_picker('Pick a color for the rectangles', '#ff0000')\n",
    "    bgr_color = hex_to_bgr(color)\n",
    "\n",
    "    min_neighbors = st.slider('Min Neighbors', min_value=1, max_value=10, value=3)\n",
    "    scale_factor = st.slider('Scale Factor', min_value=1.1, max_value=2.0, step=0.1, value=1.3)\n",
    "    \n",
    "    processed_image = detect_faces(image, scale_factor, min_neighbors, bgr_color)\n",
    "    st.image(processed_image, caption='Processed Image', use_column_width=True)\n",
    "\n",
    "    if st.button('Save Image'):\n",
    "        save_image(processed_image, 'detected_faces.png')\n",
    "        st.success('Image saved successfully!')\n"
   ]
  }
 ],
 "metadata": {
  "kernelspec": {
   "display_name": "Python 3",
   "language": "python",
   "name": "python3"
  },
  "language_info": {
   "codemirror_mode": {
    "name": "ipython",
    "version": 3
   },
   "file_extension": ".py",
   "mimetype": "text/x-python",
   "name": "python",
   "nbconvert_exporter": "python",
   "pygments_lexer": "ipython3",
   "version": "3.12.4"
  }
 },
 "nbformat": 4,
 "nbformat_minor": 2
}
